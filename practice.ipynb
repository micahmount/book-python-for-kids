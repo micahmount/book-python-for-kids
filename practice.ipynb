{
 "cells": [
  {
   "cell_type": "markdown",
   "metadata": {},
   "source": [
    "# Chapter 1"
   ]
  },
  {
   "cell_type": "markdown",
   "metadata": {},
   "source": [
    "# Chapter 2"
   ]
  },
  {
   "cell_type": "markdown",
   "metadata": {},
   "source": [
    "# Chapter 3"
   ]
  },
  {
   "cell_type": "markdown",
   "metadata": {},
   "source": [
    "# Chapter 4"
   ]
  },
  {
   "cell_type": "code",
   "execution_count": null,
   "metadata": {},
   "outputs": [],
   "source": [
    "import turtle\n",
    "\n",
    "t = turtle.Pen()\n",
    "\n",
    "t.forward(100)\n",
    "t.up()\n",
    "t.forward(50)\n",
    "t.left(90)\n",
    "t.forward(50)\n",
    "t.down()\n",
    "t.forward(100)\n",
    "t.up()\n",
    "t.forward(50)\n",
    "t.left(90)\n",
    "t.forward(50)\n",
    "t.down()\n",
    "t.forward(100)\n",
    "t.up()\n",
    "t.forward(50)\n",
    "t.left(90)\n",
    "t.forward(50)\n",
    "t.down()\n",
    "t.forward(100)\n",
    "t.up()\n",
    "t.forward(50)\n",
    "t.left(90)\n",
    "t.forward(50)\n"
   ]
  },
  {
   "cell_type": "markdown",
   "metadata": {},
   "source": [
    "# Chapter 5"
   ]
  },
  {
   "cell_type": "markdown",
   "metadata": {},
   "source": [
    "## Asking questions with if and else"
   ]
  },
  {
   "cell_type": "code",
   "execution_count": 3,
   "metadata": {},
   "outputs": [
    {
     "name": "stdout",
     "output_type": "stream",
     "text": [
      "Hello World!\n"
     ]
    }
   ],
   "source": [
    "print(\"Hello World!\")"
   ]
  },
  {
   "cell_type": "markdown",
   "metadata": {},
   "source": [
    "Play around with types and converting python to json and back again."
   ]
  },
  {
   "cell_type": "code",
   "execution_count": null,
   "metadata": {},
   "outputs": [],
   "source": [
    "import json\n",
    "\n",
    "myvar = '''{\n",
    "  \"page_0\": {\n",
    "    \"text\": \"Sample text from page 0\",\n",
    "    \"images\": [\"image1.jpg\", \"image2.png\"]\n",
    "  },\n",
    "  \"page_1\": {\n",
    "    \"text\": \"Sample text from page 1\",\n",
    "    \"images\": []\n",
    "  }\n",
    "}'''\n",
    "\n",
    "print(type(myvar))\n",
    "\n",
    "objmyvar = json.loads(myvar)\n",
    "\n",
    "print(type(objmyvar))\n",
    "\n",
    "obj2myvar = json.dumps(objmyvar)\n",
    "print(type(obj2myvar))\n",
    "\n",
    "obj2myvar = json.loads(obj2myvar)\n",
    "print(type(obj2myvar))"
   ]
  },
  {
   "cell_type": "markdown",
   "metadata": {},
   "source": [
    "If statements\n"
   ]
  },
  {
   "cell_type": "code",
   "execution_count": null,
   "metadata": {},
   "outputs": [],
   "source": [
    "age = 12\n",
    "if age >= 10 and age <= 13:\n",
    "    print('What is 13 + 49 + 84 + 155 + 97? A headache!')\n",
    "else:\n",
    "    print('Huh?')"
   ]
  },
  {
   "cell_type": "markdown",
   "metadata": {},
   "source": [
    "elif"
   ]
  },
  {
   "cell_type": "code",
   "execution_count": null,
   "metadata": {},
   "outputs": [],
   "source": [
    "age = 12\n",
    "if age == 10:\n",
    "    print(\"What do you call an unhappy cranberry?\")\n",
    "    print(\"A blueberry!\")\n",
    "elif age == 11:\n",
    "    print(\"What did the green grape say to the blue grape?\")\n",
    "    print(\"Breathe! Breathe!\")\n",
    "elif age == 12:\n",
    "    print(\"What did 0 say to 8?\")\n",
    "    print(\"Hi guys!\")\n",
    "elif age == 13:\n",
    "    print(\"Why wasn't 10 afraid of 7?\")\n",
    "    print(\"Because rather than eating 9, 7 8 pi.\")\n",
    "else:\n",
    "    print(\"Huh?\")"
   ]
  },
  {
   "cell_type": "markdown",
   "metadata": {},
   "source": [
    "Using conditionals is a bit easier, and more readable:"
   ]
  },
  {
   "cell_type": "code",
   "execution_count": null,
   "metadata": {},
   "outputs": [],
   "source": [
    "if age == 10 or age == 11 or age == 12 or age == 13:\n",
    "    print('What is 13 + 49 + 84 + 155 + 97? A headache!')\n",
    "else:\n",
    "    print('Huh?')"
   ]
  }
 ],
 "metadata": {
  "kernelspec": {
   "display_name": "venv",
   "language": "python",
   "name": "python3"
  },
  "language_info": {
   "codemirror_mode": {
    "name": "ipython",
    "version": 3
   },
   "file_extension": ".py",
   "mimetype": "text/x-python",
   "name": "python",
   "nbconvert_exporter": "python",
   "pygments_lexer": "ipython3",
   "version": "3.12.2"
  }
 },
 "nbformat": 4,
 "nbformat_minor": 2
}
